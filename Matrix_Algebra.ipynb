{
  "nbformat": 4,
  "nbformat_minor": 0,
  "metadata": {
    "colab": {
      "name": "Matrix Algebra.ipynb",
      "private_outputs": true,
      "provenance": [],
      "include_colab_link": true
    },
    "kernelspec": {
      "name": "python3",
      "display_name": "Python 3"
    },
    "language_info": {
      "name": "python"
    }
  },
  "cells": [
    {
      "cell_type": "markdown",
      "metadata": {
        "id": "view-in-github",
        "colab_type": "text"
      },
      "source": [
        "<a href=\"https://colab.research.google.com/github/jreevesy/Linear-Algebra-58019/blob/main/Matrix_Algebra.ipynb\" target=\"_parent\"><img src=\"https://colab.research.google.com/assets/colab-badge.svg\" alt=\"Open In Colab\"/></a>"
      ]
    },
    {
      "cell_type": "markdown",
      "metadata": {
        "id": "HZXchsP0BTHA"
      },
      "source": [
        "PYTHON PROGRAM TO INVERSE"
      ]
    },
    {
      "cell_type": "code",
      "metadata": {
        "id": "FfAStzBJBTW-"
      },
      "source": [
        "import numpy as np\n",
        "A = np.array([[1,2],[4,7]])\n",
        "B = np.linalg.inv(A)\n",
        "print(B)\n",
        "\n",
        "C = np.dot(A,B)\n",
        "print(C)"
      ],
      "execution_count": null,
      "outputs": []
    },
    {
      "cell_type": "code",
      "metadata": {
        "id": "R-Ndx5p6CqfJ"
      },
      "source": [
        "##Python Program to inverse a 3x3 Matrix\n",
        "\n",
        "A = np.array([[6,1,1],[4,-2,5],[2,8,7]]) #original components\n",
        "print(A)\n",
        "B = np.linalg.inv(A)\n",
        "print(\"\\nThe.inverse.above.is:\")\n",
        "print(B)\n",
        "C = np.transpose(A)\n",
        "print(\"\\ntranspose.as:\")\n",
        "print(C)"
      ],
      "execution_count": null,
      "outputs": []
    },
    {
      "cell_type": "markdown",
      "metadata": {
        "id": "OtaZQl82Dp_F"
      },
      "source": [
        "CODING ACTIVITY 3"
      ]
    },
    {
      "cell_type": "code",
      "metadata": {
        "id": "MxyW4mlUD7g_"
      },
      "source": [
        "##Python Program to inverse a 4x4 Matrix\n",
        "\n",
        "A = np.array([[6,1,1,3],[4,-2,5,1],[2,8,7,6],[3,1,9,7]]) #original components\n",
        "print(A)\n",
        "B = np.linalg.inv(A)\n",
        "print(\"\\nThe.inverse.above.is:\")\n",
        "print(B)\n",
        "C = np.transpose(A)\n",
        "print(\"\\ntranspose.as:\")\n",
        "print(C)"
      ],
      "execution_count": null,
      "outputs": []
    }
  ]
}