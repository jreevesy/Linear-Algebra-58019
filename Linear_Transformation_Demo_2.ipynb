{
  "nbformat": 4,
  "nbformat_minor": 0,
  "metadata": {
    "colab": {
      "name": "Linear Transformation: Demo 2",
      "provenance": [],
      "authorship_tag": "ABX9TyOxT8CUmZ5XYd+q+P405vUG",
      "include_colab_link": true
    },
    "kernelspec": {
      "name": "python3",
      "display_name": "Python 3"
    },
    "language_info": {
      "name": "python"
    }
  },
  "cells": [
    {
      "cell_type": "markdown",
      "metadata": {
        "id": "view-in-github",
        "colab_type": "text"
      },
      "source": [
        "<a href=\"https://colab.research.google.com/github/jreevesy/Linear-Algebra-58019/blob/main/Linear_Transformation_Demo_2.ipynb\" target=\"_parent\"><img src=\"https://colab.research.google.com/assets/colab-badge.svg\" alt=\"Open In Colab\"/></a>"
      ]
    },
    {
      "cell_type": "markdown",
      "metadata": {
        "id": "4HG39zV4XNjg"
      },
      "source": [
        "**TO FIND THE INVERSE OF MATRIX, THE MATRIX IS PASSED TO THE linalg.inv() OF THE NUMPY MODULE**\n"
      ]
    },
    {
      "cell_type": "code",
      "metadata": {
        "id": "qCDHuJuuPXJA",
        "colab": {
          "base_uri": "https://localhost:8080/"
        },
        "outputId": "d5271250-c0cd-4ab3-ff77-e2f31a73faa6"
      },
      "source": [
        "import numpy as np\n",
        "A = np.array ([[4,3],[-5,9]]) #creation of matrix A\n",
        "print (A) #to display or print"
      ],
      "execution_count": 1,
      "outputs": [
        {
          "output_type": "stream",
          "name": "stdout",
          "text": [
            "[[ 4  3]\n",
            " [-5  9]]\n"
          ]
        }
      ]
    },
    {
      "cell_type": "code",
      "metadata": {
        "colab": {
          "base_uri": "https://localhost:8080/"
        },
        "id": "DcGHMTGPVEGn",
        "outputId": "9a76e487-5f16-4577-e273-9ce3431b8f9b"
      },
      "source": [
        "import numpy as np\n",
        "A = np.array ([[4,3],[-5,9]]) #creation of matrix A\n",
        "print (A)\n",
        "inv_A = np.linalg.inv(A) #to declare and creation of Inverse of A\n",
        "print (inv_A) #to display or print"
      ],
      "execution_count": 3,
      "outputs": [
        {
          "output_type": "stream",
          "name": "stdout",
          "text": [
            "[[ 4  3]\n",
            " [-5  9]]\n",
            "[[ 0.17647059 -0.05882353]\n",
            " [ 0.09803922  0.07843137]]\n"
          ]
        }
      ]
    },
    {
      "cell_type": "code",
      "metadata": {
        "colab": {
          "base_uri": "https://localhost:8080/"
        },
        "id": "FeBgmr9RVZVb",
        "outputId": "8071c3aa-fff8-44ac-b60b-0572e9c58102"
      },
      "source": [
        "B = np.array ([[20],[26]]) #creation of Matrix B\n",
        "print (B)"
      ],
      "execution_count": 8,
      "outputs": [
        {
          "output_type": "stream",
          "name": "stdout",
          "text": [
            "[[20]\n",
            " [26]]\n"
          ]
        }
      ]
    },
    {
      "cell_type": "code",
      "metadata": {
        "colab": {
          "base_uri": "https://localhost:8080/"
        },
        "id": "sh-FVblZVlBa",
        "outputId": "c81a99e3-976e-4147-e3b8-492dfeb2ac97"
      },
      "source": [
        "X = np.linalg.inv(A).dot(B) #compute for the dot product of Inv of A & value of B\n",
        "print (X)"
      ],
      "execution_count": 6,
      "outputs": [
        {
          "output_type": "stream",
          "name": "stdout",
          "text": [
            "[[2.]\n",
            " [4.]]\n"
          ]
        }
      ]
    },
    {
      "cell_type": "code",
      "metadata": {
        "colab": {
          "base_uri": "https://localhost:8080/"
        },
        "id": "L2WSMWrGVu1I",
        "outputId": "dc2eee54-349f-45dd-f5a0-d62168e730ae"
      },
      "source": [
        "X = np.dot(inv_A,B) #to compute for the dot product of Inv of A and B\n",
        "print (X)"
      ],
      "execution_count": 9,
      "outputs": [
        {
          "output_type": "stream",
          "name": "stdout",
          "text": [
            "[[2.]\n",
            " [4.]]\n"
          ]
        }
      ]
    },
    {
      "cell_type": "markdown",
      "metadata": {
        "id": "jel4Dnv1W7EL"
      },
      "source": [
        "**YOU TRY!**"
      ]
    },
    {
      "cell_type": "code",
      "metadata": {
        "colab": {
          "base_uri": "https://localhost:8080/"
        },
        "id": "ZHl85JWiW9NI",
        "outputId": "2904aecb-22bb-4798-bf88-11dde52ceb1b"
      },
      "source": [
        "X = np.array([[4,3,2],[-2,2,3],[3,-5,2]]) #creation of Matrix X\n",
        "y = np.array([[25],[-10],[-4]]) #creation of Matix y\n",
        "\n",
        "inv_X = np.linalg.inv(X) #to Inverse the Matrix X\n",
        "b = np.linalg.inv(X).dot(y) #To get dot product of Inverse of X and y\n",
        "\n",
        "#to print or display\n",
        "print(X)\n",
        "print()\n",
        "print(inv_X)\n",
        "print()\n",
        "print(y)\n",
        "print()\n",
        "print(b)\n"
      ],
      "execution_count": 14,
      "outputs": [
        {
          "output_type": "stream",
          "name": "stdout",
          "text": [
            "[[ 4  3  2]\n",
            " [-2  2  3]\n",
            " [ 3 -5  2]]\n",
            "\n",
            "[[ 0.15447154 -0.1300813   0.04065041]\n",
            " [ 0.10569106  0.01626016 -0.1300813 ]\n",
            " [ 0.03252033  0.23577236  0.11382114]]\n",
            "\n",
            "[[ 25]\n",
            " [-10]\n",
            " [ -4]]\n",
            "\n",
            "[[ 5.]\n",
            " [ 3.]\n",
            " [-2.]]\n"
          ]
        }
      ]
    },
    {
      "cell_type": "code",
      "metadata": {
        "colab": {
          "base_uri": "https://localhost:8080/"
        },
        "id": "SlmKcfRMV3MG",
        "outputId": "c11fcbc4-55e1-4dc4-acbe-d0dce8974033"
      },
      "source": [
        "A = np.array ([[20,10],[17,22]]) #creation of Matrix A\n",
        "print (A)\n",
        "inv_A = np.linalg.inv(A) #Inverse of matrix A\n",
        "print (inv_A)"
      ],
      "execution_count": 10,
      "outputs": [
        {
          "output_type": "stream",
          "name": "stdout",
          "text": [
            "[[20 10]\n",
            " [17 22]]\n",
            "[[ 0.08148148 -0.03703704]\n",
            " [-0.06296296  0.07407407]]\n"
          ]
        }
      ]
    },
    {
      "cell_type": "code",
      "metadata": {
        "colab": {
          "base_uri": "https://localhost:8080/"
        },
        "id": "9Kc0R-s1WNuI",
        "outputId": "e93b71af-19bf-4720-82ca-340b46d9acb1"
      },
      "source": [
        "B= np.array([[350],[500]]) #Creation of Matrix B\n",
        "print(B)"
      ],
      "execution_count": 11,
      "outputs": [
        {
          "output_type": "stream",
          "name": "stdout",
          "text": [
            "[[350]\n",
            " [500]]\n"
          ]
        }
      ]
    },
    {
      "cell_type": "code",
      "metadata": {
        "colab": {
          "base_uri": "https://localhost:8080/"
        },
        "id": "ieKJlBpzWPdA",
        "outputId": "f42ffd89-2ee2-4b78-a309-2fdff32e7b77"
      },
      "source": [
        "X = np.dot(inv_A,B) #To get dot product of Inverse of A and B\n",
        "\n",
        "print(X)"
      ],
      "execution_count": 12,
      "outputs": [
        {
          "output_type": "stream",
          "name": "stdout",
          "text": [
            "[[10.]\n",
            " [15.]]\n"
          ]
        }
      ]
    },
    {
      "cell_type": "code",
      "metadata": {
        "colab": {
          "base_uri": "https://localhost:8080/"
        },
        "id": "cT8ODz5CWRLn",
        "outputId": "3ec04b7c-bb59-4e4e-d807-5c926257e05b"
      },
      "source": [
        "B = np.dot(A,X)\n",
        "print(B)"
      ],
      "execution_count": 13,
      "outputs": [
        {
          "output_type": "stream",
          "name": "stdout",
          "text": [
            "[[350.]\n",
            " [500.]]\n"
          ]
        }
      ]
    }
  ]
}