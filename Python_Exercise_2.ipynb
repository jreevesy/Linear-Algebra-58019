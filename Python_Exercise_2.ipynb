{
  "nbformat": 4,
  "nbformat_minor": 0,
  "metadata": {
    "colab": {
      "name": "Python_Exercise_2",
      "provenance": [],
      "authorship_tag": "ABX9TyN6kuK9pt0+84YFgu6AFoga",
      "include_colab_link": true
    },
    "kernelspec": {
      "name": "python3",
      "display_name": "Python 3"
    },
    "language_info": {
      "name": "python"
    }
  },
  "cells": [
    {
      "cell_type": "markdown",
      "metadata": {
        "id": "view-in-github",
        "colab_type": "text"
      },
      "source": [
        "<a href=\"https://colab.research.google.com/github/jreevesy/Linear-Algebra-58019/blob/main/Python_Exercise_2.ipynb\" target=\"_parent\"><img src=\"https://colab.research.google.com/assets/colab-badge.svg\" alt=\"Open In Colab\"/></a>"
      ]
    },
    {
      "cell_type": "markdown",
      "metadata": {
        "id": "3iq8SmtX0aJT"
      },
      "source": [
        "**REPRESENTING VECTORS**"
      ]
    },
    {
      "cell_type": "code",
      "metadata": {
        "colab": {
          "base_uri": "https://localhost:8080/"
        },
        "id": "VvA5YS1m0WCN",
        "outputId": "662a1ca2-5220-4d11-df16-bb5cc5b161ec"
      },
      "source": [
        "import numpy as np\n",
        "\n",
        "A = np.array ([4,3])\n",
        "B = np.array ([2,-5])\n",
        "\n",
        "print ('Vector A is', A)\n",
        "print ('Vector B is', B)"
      ],
      "execution_count": 1,
      "outputs": [
        {
          "output_type": "stream",
          "name": "stdout",
          "text": [
            "Vector A is [4 3]\n",
            "Vector B is [ 2 -5]\n"
          ]
        }
      ]
    },
    {
      "cell_type": "markdown",
      "metadata": {
        "id": "EuA8iio_0XBb"
      },
      "source": [
        "**DESCRIBING VECTORS IN NumPy**"
      ]
    },
    {
      "cell_type": "code",
      "metadata": {
        "colab": {
          "base_uri": "https://localhost:8080/"
        },
        "id": "obwganMK0Ygz",
        "outputId": "9e08ac46-1001-42c2-f1e4-f2e28d3cf5d8"
      },
      "source": [
        "import numpy as np\n",
        "\n",
        "### checking shapes\n",
        "### shapes tells us how many rows and columns are there \n",
        "\n",
        "ball1 = np.array([1,2,3])\n",
        "ball2 = np.array([0,1,-1])\n",
        "\n",
        "pool = np.array([ball1,ball2])\n",
        "pool.shape \n",
        "pool.ndim ### dimension"
      ],
      "execution_count": 2,
      "outputs": [
        {
          "output_type": "execute_result",
          "data": {
            "text/plain": [
              "2"
            ]
          },
          "metadata": {},
          "execution_count": 2
        }
      ]
    },
    {
      "cell_type": "code",
      "metadata": {
        "colab": {
          "base_uri": "https://localhost:8080/"
        },
        "id": "2sXU_ZlR0f9z",
        "outputId": "94e59173-61f8-45f6-87f0-706aac72a0b4"
      },
      "source": [
        "u = np.array([[1,2,3],[4,5,6]])\n",
        "u\n",
        "u.ndim\n",
        "u.size ### component in a matrix u"
      ],
      "execution_count": 3,
      "outputs": [
        {
          "output_type": "execute_result",
          "data": {
            "text/plain": [
              "6"
            ]
          },
          "metadata": {},
          "execution_count": 3
        }
      ]
    },
    {
      "cell_type": "markdown",
      "metadata": {
        "id": "kApc_1le0fo7"
      },
      "source": [
        "**SPACE**"
      ]
    },
    {
      "cell_type": "markdown",
      "metadata": {
        "id": "7rGy7m8G0jek"
      },
      "source": [
        "**Vector spaces are mathematical objects that abstractly capture the geometry and algebra of linear equations.**"
      ]
    },
    {
      "cell_type": "markdown",
      "metadata": {
        "id": "tdx2zguk0lq8"
      },
      "source": [
        "**Addition of vectors**"
      ]
    },
    {
      "cell_type": "code",
      "metadata": {
        "colab": {
          "base_uri": "https://localhost:8080/"
        },
        "id": "QOKMpY5l0naT",
        "outputId": "31b6de13-aa90-4149-fc5b-2b3ed071a621"
      },
      "source": [
        "addend1 = np.array([0,0,0])\n",
        "addend2 = np.array([1,1,0])\n",
        "sum = addend1 + addend2\n",
        "sum\n"
      ],
      "execution_count": 4,
      "outputs": [
        {
          "output_type": "execute_result",
          "data": {
            "text/plain": [
              "array([1, 1, 0])"
            ]
          },
          "metadata": {},
          "execution_count": 4
        }
      ]
    },
    {
      "cell_type": "code",
      "metadata": {
        "colab": {
          "base_uri": "https://localhost:8080/"
        },
        "id": "4bzRZR0V0pSL",
        "outputId": "94530566-a408-49ce-8484-c4fac31a80b4"
      },
      "source": [
        "addend1 = np.array([0,0,0])\n",
        "addend2 = np.array([1,1,0])\n",
        "resultant = np.add(addend1, addend2)\n",
        "resultant"
      ],
      "execution_count": 5,
      "outputs": [
        {
          "output_type": "execute_result",
          "data": {
            "text/plain": [
              "array([1, 1, 0])"
            ]
          },
          "metadata": {},
          "execution_count": 5
        }
      ]
    },
    {
      "cell_type": "markdown",
      "metadata": {
        "id": "uftgsPVv0q5T"
      },
      "source": [
        "**SUBTRACTION OF VECTORS**"
      ]
    },
    {
      "cell_type": "code",
      "metadata": {
        "colab": {
          "base_uri": "https://localhost:8080/"
        },
        "id": "81LJAHqt0snz",
        "outputId": "2c010dd4-8a02-4aca-e426-09f513e0b7d2"
      },
      "source": [
        "#You will subtract the components of addend2 from addend1: addend1-addend2\n",
        "\n",
        "difference = addend1-addend2\n",
        "difference"
      ],
      "execution_count": 6,
      "outputs": [
        {
          "output_type": "execute_result",
          "data": {
            "text/plain": [
              "array([-1, -1,  0])"
            ]
          },
          "metadata": {},
          "execution_count": 6
        }
      ]
    },
    {
      "cell_type": "code",
      "metadata": {
        "colab": {
          "base_uri": "https://localhost:8080/"
        },
        "id": "PxV6868U0uMr",
        "outputId": "07fa42a4-eca4-4e74-f863-6ebf7ec7f509"
      },
      "source": [
        "difference2 = np.subtract(addend2,addend1)\n",
        "difference"
      ],
      "execution_count": 7,
      "outputs": [
        {
          "output_type": "execute_result",
          "data": {
            "text/plain": [
              "array([-1, -1,  0])"
            ]
          },
          "metadata": {},
          "execution_count": 7
        }
      ]
    },
    {
      "cell_type": "markdown",
      "metadata": {
        "id": "9fXPyOuw0vrz"
      },
      "source": [
        "**MULTIPLICATION OF VECTORS**"
      ]
    },
    {
      "cell_type": "markdown",
      "metadata": {
        "id": "QUpSSBkZ0yeT"
      },
      "source": [
        "Scaling"
      ]
    },
    {
      "cell_type": "code",
      "metadata": {
        "colab": {
          "base_uri": "https://localhost:8080/"
        },
        "id": "10aPR9oY0xrS",
        "outputId": "f0a73e76-8989-47bc-85be-875634ece339"
      },
      "source": [
        "A = np.array([1,5,8,9])\n",
        "S = 5*A\n",
        "S"
      ],
      "execution_count": 8,
      "outputs": [
        {
          "output_type": "execute_result",
          "data": {
            "text/plain": [
              "array([ 5, 25, 40, 45])"
            ]
          },
          "metadata": {},
          "execution_count": 8
        }
      ]
    },
    {
      "cell_type": "markdown",
      "metadata": {
        "id": "W-PZPZ2G02pD"
      },
      "source": [
        "**CROSS PRODUCT**"
      ]
    },
    {
      "cell_type": "code",
      "metadata": {
        "colab": {
          "base_uri": "https://localhost:8080/"
        },
        "id": "_F3EQ8F501pc",
        "outputId": "67310ab4-d0ed-4aa5-c9df-cdfbd4614580"
      },
      "source": [
        "import numpy as np\n",
        "\n",
        "#initialize arrays\n",
        "\n",
        "A = np.array([2,3])\n",
        "B = np.array ([1,7])\n",
        "\n",
        "#compute cross product\n",
        "\n",
        "output = np.cross(A,B)\n",
        "\n",
        "print (output)"
      ],
      "execution_count": 9,
      "outputs": [
        {
          "output_type": "stream",
          "name": "stdout",
          "text": [
            "11\n"
          ]
        }
      ]
    }
  ]
}