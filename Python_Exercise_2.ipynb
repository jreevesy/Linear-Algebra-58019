{
  "nbformat": 4,
  "nbformat_minor": 0,
  "metadata": {
    "colab": {
      "name": "Python_Exercise_2",
      "provenance": [],
      "authorship_tag": "ABX9TyPTJ1dXvw/LqYon68Xo0C9b",
      "include_colab_link": true
    },
    "kernelspec": {
      "name": "python3",
      "display_name": "Python 3"
    },
    "language_info": {
      "name": "python"
    }
  },
  "cells": [
    {
      "cell_type": "markdown",
      "metadata": {
        "id": "view-in-github",
        "colab_type": "text"
      },
      "source": [
        "<a href=\"https://colab.research.google.com/github/jreevesy/Linear-Algebra-58019/blob/main/Python_Exercise_2.ipynb\" target=\"_parent\"><img src=\"https://colab.research.google.com/assets/colab-badge.svg\" alt=\"Open In Colab\"/></a>"
      ]
    },
    {
      "cell_type": "markdown",
      "metadata": {
        "id": "Ygvim504nI0U"
      },
      "source": [
        "**REPRESENTING VECTORS**"
      ]
    },
    {
      "cell_type": "code",
      "metadata": {
        "colab": {
          "base_uri": "https://localhost:8080/"
        },
        "id": "aZSadlynj4uX",
        "outputId": "fa265836-4945-4751-ac5e-99757f7ddf7d"
      },
      "source": [
        "import numpy as np\n",
        "\n",
        "A = np.array ([4,3])\n",
        "B = np.array ([2,-5])\n",
        "\n",
        "print ('Vector A is', A)\n",
        "print ('Vector B is', B)"
      ],
      "execution_count": 2,
      "outputs": [
        {
          "output_type": "stream",
          "name": "stdout",
          "text": [
            "Vector A is [4 3]\n",
            "Vector B is [ 2 -5]\n"
          ]
        }
      ]
    },
    {
      "cell_type": "markdown",
      "metadata": {
        "id": "RB1wMceIo1UO"
      },
      "source": [
        "**DESCRIBING VECTORS IN NumPy**"
      ]
    },
    {
      "cell_type": "code",
      "metadata": {
        "colab": {
          "base_uri": "https://localhost:8080/"
        },
        "id": "B5m7wiH0o0AW",
        "outputId": "1717b4f9-e9de-4289-d00d-22e8eca2af06"
      },
      "source": [
        "import numpy as np\n",
        "\n",
        "### checking shapes\n",
        "### shapes tells us how many rows and columns are there \n",
        "\n",
        "ball1 = np.array([1,2,3])\n",
        "ball2 = np.array([0,1,-1])\n",
        "\n",
        "pool = np.array([ball1,ball2])\n",
        "pool.shape \n",
        "pool.ndim ### dimension"
      ],
      "execution_count": 7,
      "outputs": [
        {
          "output_type": "execute_result",
          "data": {
            "text/plain": [
              "2"
            ]
          },
          "metadata": {},
          "execution_count": 7
        }
      ]
    },
    {
      "cell_type": "code",
      "metadata": {
        "colab": {
          "base_uri": "https://localhost:8080/"
        },
        "id": "Mo-0roTSqg2X",
        "outputId": "9e343d81-e008-442c-8795-763e9f8bb1ab"
      },
      "source": [
        "u = np.array([[1,2,3],[4,5,6]])\n",
        "u\n",
        "u.ndim\n",
        "u.size ### component in a matrix u"
      ],
      "execution_count": 13,
      "outputs": [
        {
          "output_type": "execute_result",
          "data": {
            "text/plain": [
              "6"
            ]
          },
          "metadata": {},
          "execution_count": 13
        }
      ]
    },
    {
      "cell_type": "markdown",
      "metadata": {
        "id": "YcsgQVMRrp_K"
      },
      "source": [
        "**SPACE**"
      ]
    },
    {
      "cell_type": "markdown",
      "metadata": {
        "id": "K5cYYKPhsPON"
      },
      "source": [
        "Vector spaces are mathematical objects that abstractly capture the geometry and algebra of linear equations."
      ]
    },
    {
      "cell_type": "markdown",
      "metadata": {
        "id": "O9u9S-hptSuM"
      },
      "source": [
        "Addition of vectors"
      ]
    },
    {
      "cell_type": "code",
      "metadata": {
        "colab": {
          "base_uri": "https://localhost:8080/"
        },
        "id": "MM9zdgstsbFc",
        "outputId": "74f0d660-c7e1-4012-80f5-3e37b2767861"
      },
      "source": [
        "addend1 = np.array([0,0,0])\n",
        "addend2 = np.array([1,1,0])\n",
        "sum = addend1 + addend2\n",
        "sum\n"
      ],
      "execution_count": 15,
      "outputs": [
        {
          "output_type": "execute_result",
          "data": {
            "text/plain": [
              "array([1, 1, 0])"
            ]
          },
          "metadata": {},
          "execution_count": 15
        }
      ]
    },
    {
      "cell_type": "code",
      "metadata": {
        "colab": {
          "base_uri": "https://localhost:8080/"
        },
        "id": "KU6FlSatuBqb",
        "outputId": "065a6edf-05a4-4b38-e94f-3851230b2f8d"
      },
      "source": [
        "addend1 = np.array([0,0,0])\n",
        "addend2 = np.array([1,1,0])\n",
        "resultant = np.add(addend1, addend2)\n",
        "resultant"
      ],
      "execution_count": 16,
      "outputs": [
        {
          "output_type": "execute_result",
          "data": {
            "text/plain": [
              "array([1, 1, 0])"
            ]
          },
          "metadata": {},
          "execution_count": 16
        }
      ]
    },
    {
      "cell_type": "markdown",
      "metadata": {
        "id": "DCwcx2zbvBOt"
      },
      "source": [
        "**SUBTRACTION OF VECTORS**"
      ]
    },
    {
      "cell_type": "code",
      "metadata": {
        "colab": {
          "base_uri": "https://localhost:8080/"
        },
        "id": "QGB0bs8evD2U",
        "outputId": "5ef40d0b-f995-48db-8f37-f2b5c7960f65"
      },
      "source": [
        "#You will subtract the components of addend2 from addend1: addend1-addend2\n",
        "\n",
        "difference = addend1-addend2\n",
        "difference"
      ],
      "execution_count": 17,
      "outputs": [
        {
          "output_type": "execute_result",
          "data": {
            "text/plain": [
              "array([-1, -1,  0])"
            ]
          },
          "metadata": {},
          "execution_count": 17
        }
      ]
    },
    {
      "cell_type": "code",
      "metadata": {
        "colab": {
          "base_uri": "https://localhost:8080/"
        },
        "id": "WEV6zAq8v_qr",
        "outputId": "5149b3cd-f7d8-4009-a4ab-2f76113e2dd9"
      },
      "source": [
        "difference2 = np.subtract(addend2,addend1)\n",
        "difference"
      ],
      "execution_count": 19,
      "outputs": [
        {
          "output_type": "execute_result",
          "data": {
            "text/plain": [
              "array([-1, -1,  0])"
            ]
          },
          "metadata": {},
          "execution_count": 19
        }
      ]
    },
    {
      "cell_type": "markdown",
      "metadata": {
        "id": "nWoP1k9KwQ9k"
      },
      "source": [
        "**MULTIPLICATION OF VECTORS**"
      ]
    },
    {
      "cell_type": "markdown",
      "metadata": {
        "id": "2egiTuMmwdwL"
      },
      "source": [
        "Scaling"
      ]
    },
    {
      "cell_type": "code",
      "metadata": {
        "colab": {
          "base_uri": "https://localhost:8080/"
        },
        "id": "nAZ-fnVewe97",
        "outputId": "33473ced-7402-4b1c-e0e4-23ea4c0c29fd"
      },
      "source": [
        "A = np.array([1,5,8,9])\n",
        "S = 5*A\n",
        "S"
      ],
      "execution_count": 20,
      "outputs": [
        {
          "output_type": "execute_result",
          "data": {
            "text/plain": [
              "array([ 5, 25, 40, 45])"
            ]
          },
          "metadata": {},
          "execution_count": 20
        }
      ]
    },
    {
      "cell_type": "markdown",
      "metadata": {
        "id": "IupDKQEbx8hE"
      },
      "source": [
        "**CROSS PRODUCT**"
      ]
    },
    {
      "cell_type": "code",
      "metadata": {
        "colab": {
          "base_uri": "https://localhost:8080/"
        },
        "id": "pPl71sF0xqej",
        "outputId": "d5b29b46-d255-49f1-d031-b92183d729ce"
      },
      "source": [
        "import numpy as np\n",
        "\n",
        "#initialize arrays\n",
        "\n",
        "A = np.array([2,3])\n",
        "B = np.array ([1,7])\n",
        "\n",
        "#compute cross product\n",
        "\n",
        "output = np.cross(A,B)\n",
        "\n",
        "print (output)"
      ],
      "execution_count": 21,
      "outputs": [
        {
          "output_type": "stream",
          "name": "stdout",
          "text": [
            "11\n"
          ]
        }
      ]
    }
  ]
}