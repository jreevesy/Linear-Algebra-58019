{
  "nbformat": 4,
  "nbformat_minor": 0,
  "metadata": {
    "colab": {
      "name": "FINAL EXAM.ipynb",
      "provenance": [],
      "authorship_tag": "ABX9TyM1rIkqSXL0Mq5WW793b7WO",
      "include_colab_link": true
    },
    "kernelspec": {
      "name": "python3",
      "display_name": "Python 3"
    },
    "language_info": {
      "name": "python"
    }
  },
  "cells": [
    {
      "cell_type": "markdown",
      "metadata": {
        "id": "view-in-github",
        "colab_type": "text"
      },
      "source": [
        "<a href=\"https://colab.research.google.com/github/jreevesy/Linear-Algebra-58019/blob/main/FINAL_EXAM.ipynb\" target=\"_parent\"><img src=\"https://colab.research.google.com/assets/colab-badge.svg\" alt=\"Open In Colab\"/></a>"
      ]
    },
    {
      "cell_type": "markdown",
      "source": [
        "# **FINAL EXAM**"
      ],
      "metadata": {
        "id": "j-fiajnAJgYQ"
      }
    },
    {
      "cell_type": "code",
      "execution_count": 6,
      "metadata": {
        "colab": {
          "base_uri": "https://localhost:8080/"
        },
        "id": "z_WRkBflHEhG",
        "outputId": "aa9b48da-7ccc-4b2a-94eb-c080a60378ab"
      },
      "outputs": [
        {
          "output_type": "stream",
          "name": "stdout",
          "text": [
            "[[13.]\n",
            " [57.]\n",
            " [19.]]\n"
          ]
        }
      ],
      "source": [
        "#problem one\n",
        "\n",
        "import numpy as np\n",
        "\n",
        "eq1 = np.array ([[1,1,1],[1,0,4],[0,0,5]])\n",
        "eq2 = np.array ([[89],[89],[95]])\n",
        "amt = np.linalg.inv(eq1).dot(eq2)\n",
        "print (amt)"
      ]
    },
    {
      "cell_type": "code",
      "source": [
        "#problem two\n",
        "\n",
        "import numpy as np\n",
        "\n",
        "A = np.array([[3,-1,1],[9,-3,3],[-12,4,-4]])\n",
        "print(A)\n",
        "B = np.array([[5],[15],[-20]])\n",
        "print (B)\n",
        "\n",
        "# compute the pseudo inverse of A\n",
        "# computationally intensive for large problems\n",
        "Apinv = np.linalg.pinv(A)\n",
        "\n",
        "# apply the pseudo-inverse to the rhs\n",
        "# vector to obtain the `solution'\n",
        "x = Apinv.dot(B)\n",
        "print(x)"
      ],
      "metadata": {
        "colab": {
          "base_uri": "https://localhost:8080/"
        },
        "id": "m63q1up-KeDn",
        "outputId": "540be676-335d-4338-c630-85f67bf89f05"
      },
      "execution_count": 8,
      "outputs": [
        {
          "output_type": "stream",
          "name": "stdout",
          "text": [
            "[[  3  -1   1]\n",
            " [  9  -3   3]\n",
            " [-12   4  -4]]\n",
            "[[  5]\n",
            " [ 15]\n",
            " [-20]]\n",
            "[[ 1.36363636]\n",
            " [-0.45454545]\n",
            " [ 0.45454545]]\n"
          ]
        }
      ]
    },
    {
      "cell_type": "code",
      "source": [
        "#problem three\n",
        "\n",
        "import numpy as np\n",
        "from numpy.linalg import eig\n",
        "\n",
        "A = np.array([[8,5,-6],[-12,-9,12],[-3,-3,5]])\n",
        "print(A,\"\\n\")\n",
        "w,v = np.linalg.eig(A) \n",
        "print(\"The eigenvalues is/are:\\n\",w.round(),\"\\n\") #print eigenvalues\n",
        "print(\"The eigenvectors is/are:\\n\",v.round()) #print eigenvectors"
      ],
      "metadata": {
        "colab": {
          "base_uri": "https://localhost:8080/"
        },
        "id": "UtJPLNpoKjTu",
        "outputId": "29393c0f-84e7-43bc-c0bc-1be486750d6d"
      },
      "execution_count": 5,
      "outputs": [
        {
          "output_type": "stream",
          "name": "stdout",
          "text": [
            "[[  8   5  -6]\n",
            " [-12  -9  12]\n",
            " [ -3  -3   5]] \n",
            "\n",
            "The eigenvalues is/are:\n",
            " [-1.  3.  2.] \n",
            "\n",
            "The eigenvectors is/are:\n",
            " [[ 0. -1.  1.]\n",
            " [-1.  1.  0.]\n",
            " [-0. -0.  1.]]\n"
          ]
        }
      ]
    }
  ]
}