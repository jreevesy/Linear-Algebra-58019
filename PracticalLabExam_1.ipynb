{
  "nbformat": 4,
  "nbformat_minor": 0,
  "metadata": {
    "colab": {
      "name": "PracticalLabExam_1",
      "provenance": [],
      "authorship_tag": "ABX9TyOgwZESZsj29NknHJ6LOqA3",
      "include_colab_link": true
    },
    "kernelspec": {
      "name": "python3",
      "display_name": "Python 3"
    },
    "language_info": {
      "name": "python"
    }
  },
  "cells": [
    {
      "cell_type": "markdown",
      "metadata": {
        "id": "view-in-github",
        "colab_type": "text"
      },
      "source": [
        "<a href=\"https://colab.research.google.com/github/jreevesy/Linear-Algebra-58019/blob/main/PracticalLabExam_1.ipynb\" target=\"_parent\"><img src=\"https://colab.research.google.com/assets/colab-badge.svg\" alt=\"Open In Colab\"/></a>"
      ]
    },
    {
      "cell_type": "markdown",
      "metadata": {
        "id": "QERLKO99sYIV"
      },
      "source": [
        "**B**"
      ]
    },
    {
      "cell_type": "code",
      "metadata": {
        "colab": {
          "base_uri": "https://localhost:8080/"
        },
        "id": "ALx6ccj9scja",
        "outputId": "c576576f-743b-4805-af38-dc0127a2668c"
      },
      "source": [
        "import numpy as np\n",
        "\n",
        "A = np.array ([[1, 2, 3],[4, 5, 6]])\n",
        "B = np.array ([[1, 2],[3, 4],[5, 6]])\n",
        "C = np.array ([[1, 2, 3],[4, 5, 6],[7, 8, 9]])\n",
        "D = np.array ([[1, 2],[3, 4]])\n",
        "\n",
        "dot = np.dot(A,B)\n",
        "sum = np.add(D,D)\n",
        "S = 2*C\n",
        "\n",
        "print (\"A:\")\n",
        "print (dot)\n",
        "print (\"\\nB:\")\n",
        "print (sum)\n",
        "print (\"\\nC:\")\n",
        "print (S)\n",
        "print ('Sum of D and D: ')\n",
        "print (sum)\n",
        "print (\"\\nScalar of C\")\n",
        "print (S)"
      ],
      "execution_count": 12,
      "outputs": [
        {
          "output_type": "stream",
          "name": "stdout",
          "text": [
            "A:\n",
            "[[22 28]\n",
            " [49 64]]\n",
            "\n",
            "B:\n",
            "[[2 4]\n",
            " [6 8]]\n",
            "\n",
            "C:\n",
            "[[ 2  4  6]\n",
            " [ 8 10 12]\n",
            " [14 16 18]]\n",
            "Sum of D and D: \n",
            "[[2 4]\n",
            " [6 8]]\n",
            "\n",
            "Scalar of C\n",
            "[[ 2  4  6]\n",
            " [ 8 10 12]\n",
            " [14 16 18]]\n"
          ]
        }
      ]
    },
    {
      "cell_type": "code",
      "metadata": {
        "colab": {
          "base_uri": "https://localhost:8080/"
        },
        "id": "Ax6RWVyE7gtq",
        "outputId": "3a021ec0-863f-4b7c-b490-47d96c2ff99f"
      },
      "source": [
        "import numpy as np\n",
        "\n",
        "X = np.array ([[5], [3], [-1]])\n",
        "\n",
        "print (\"Problem 2: \")\n",
        "print (\"\\nType:\")\n",
        "print (type(X))\n",
        "print (\"\\nDimension:\")\n",
        "print (X.ndim)\n",
        "print (\"\\nShape:\")\n",
        "print (X.shape)"
      ],
      "execution_count": 13,
      "outputs": [
        {
          "output_type": "stream",
          "name": "stdout",
          "text": [
            "Problem 2: \n",
            "\n",
            "Type:\n",
            "<class 'numpy.ndarray'>\n",
            "\n",
            "Dimension:\n",
            "2\n",
            "\n",
            "Shape:\n",
            "(3, 1)\n"
          ]
        }
      ]
    }
  ]
}