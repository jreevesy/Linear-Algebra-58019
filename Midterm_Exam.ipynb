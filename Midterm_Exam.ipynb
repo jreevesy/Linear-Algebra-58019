{
  "nbformat": 4,
  "nbformat_minor": 0,
  "metadata": {
    "colab": {
      "name": "Midterm Exam",
      "provenance": [],
      "authorship_tag": "ABX9TyOjYTTUSKoxMDjkXdCVnP44",
      "include_colab_link": true
    },
    "kernelspec": {
      "name": "python3",
      "display_name": "Python 3"
    },
    "language_info": {
      "name": "python"
    }
  },
  "cells": [
    {
      "cell_type": "markdown",
      "metadata": {
        "id": "view-in-github",
        "colab_type": "text"
      },
      "source": [
        "<a href=\"https://colab.research.google.com/github/jreevesy/Linear-Algebra-58019/blob/main/Midterm_Exam.ipynb\" target=\"_parent\"><img src=\"https://colab.research.google.com/assets/colab-badge.svg\" alt=\"Open In Colab\"/></a>"
      ]
    },
    {
      "cell_type": "markdown",
      "metadata": {
        "id": "B_1Mogp64aN8"
      },
      "source": [
        "**QUESTION #1**\n"
      ]
    },
    {
      "cell_type": "code",
      "metadata": {
        "colab": {
          "base_uri": "https://localhost:8080/"
        },
        "id": "obWjTMtD4e-b",
        "outputId": "adeb285c-725a-4072-c33e-4920bd4b41de"
      },
      "source": [
        "import numpy as np\n",
        "\n",
        "square_matrix = np.identity(5)\n",
        "\n",
        "print(f'Square Matrix whose length is 5: \\n{square_matrix}')\n"
      ],
      "execution_count": 11,
      "outputs": [
        {
          "output_type": "stream",
          "name": "stdout",
          "text": [
            "Square Matrix whose length is 5: \n",
            "[[1. 0. 0. 0. 0.]\n",
            " [0. 1. 0. 0. 0.]\n",
            " [0. 0. 1. 0. 0.]\n",
            " [0. 0. 0. 1. 0.]\n",
            " [0. 0. 0. 0. 1.]]\n"
          ]
        }
      ]
    },
    {
      "cell_type": "markdown",
      "metadata": {
        "id": "um8W2eYA4fpv"
      },
      "source": [
        "**QUESTION #2**\n"
      ]
    },
    {
      "cell_type": "code",
      "metadata": {
        "colab": {
          "base_uri": "https://localhost:8080/"
        },
        "id": "f8Tdb6Xy4jUu",
        "outputId": "10f90568-4676-4d8d-8cbc-082c66690942"
      },
      "source": [
        "import numpy as np\n",
        "\n",
        "Q = np.array([[1,2,3,4,5],[0,6,7,8,9],[0,0,10,11,12],[0,0,0,13,14],[0,0,0,0,15]])\n",
        "print(Q)"
      ],
      "execution_count": 14,
      "outputs": [
        {
          "output_type": "stream",
          "name": "stdout",
          "text": [
            "[[ 1  2  3  4  5]\n",
            " [ 0  6  7  8  9]\n",
            " [ 0  0 10 11 12]\n",
            " [ 0  0  0 13 14]\n",
            " [ 0  0  0  0 15]]\n"
          ]
        }
      ]
    },
    {
      "cell_type": "markdown",
      "metadata": {
        "id": "hVkPgf-m4jxn"
      },
      "source": [
        "**QUESTION #3**"
      ]
    },
    {
      "cell_type": "code",
      "metadata": {
        "colab": {
          "base_uri": "https://localhost:8080/"
        },
        "id": "eK3P3lls4uPO",
        "outputId": "4924744f-9e4e-47c7-ca23-48c1d554e08a"
      },
      "source": [
        "import numpy as np\n",
        "\n",
        "square_matrix = np.array ([[6,7,8,9,10],\n",
        "                           [7,6,7,8,9],\n",
        "                           [8,7,6,7,8],\n",
        "                           [9,8,7,6,7],\n",
        "                           [10,9,8,7,6]])\n",
        "#prints a square matrix which is symmetrical\n",
        "\n",
        "print('A square matrix which is symmetrical')\n",
        "print(square_matrix)"
      ],
      "execution_count": 17,
      "outputs": [
        {
          "output_type": "stream",
          "name": "stdout",
          "text": [
            "A square matrix which is symmetrical\n",
            "[[ 6  7  8  9 10]\n",
            " [ 7  6  7  8  9]\n",
            " [ 8  7  6  7  8]\n",
            " [ 9  8  7  6  7]\n",
            " [10  9  8  7  6]]\n"
          ]
        }
      ]
    },
    {
      "cell_type": "markdown",
      "metadata": {
        "id": "n_rnRPyy4-R2"
      },
      "source": [
        "**QUESTION #4**"
      ]
    },
    {
      "cell_type": "code",
      "metadata": {
        "colab": {
          "base_uri": "https://localhost:8080/"
        },
        "id": "489Q5TLL5BDb",
        "outputId": "823c6254-698c-4ae6-d047-3427264c1e3c"
      },
      "source": [
        "import numpy as np\n",
        "\n",
        "C = np.array ([[1,2,3],[2,3,3],[3,4,-2]])\n",
        "\n",
        "invC = np.linalg.inv(C) #Inverse of Matrix C\n",
        "\n",
        "print(invC)"
      ],
      "execution_count": 4,
      "outputs": [
        {
          "output_type": "stream",
          "name": "stdout",
          "text": [
            "[[-3.6  3.2 -0.6]\n",
            " [ 2.6 -2.2  0.6]\n",
            " [-0.2  0.4 -0.2]]\n"
          ]
        }
      ]
    },
    {
      "cell_type": "markdown",
      "metadata": {
        "id": "yiB9iPrN5Bju"
      },
      "source": [
        "**QUESTION #5**"
      ]
    },
    {
      "cell_type": "code",
      "metadata": {
        "colab": {
          "base_uri": "https://localhost:8080/"
        },
        "id": "3HAfoNWl5EiW",
        "outputId": "ea235377-704f-4669-8303-da45edcc7f85"
      },
      "source": [
        "import numpy as np\n",
        "\n",
        "C = np.array ([[1,2,3],[2,3,3],[3,4,-2]])\n",
        "\n",
        "detOfC = np.linalg.det(C)\n",
        "\n",
        "print(\"Determinant of the given matrix in Question 4:\")\n",
        "print(int(detOfC))"
      ],
      "execution_count": 6,
      "outputs": [
        {
          "output_type": "stream",
          "name": "stdout",
          "text": [
            "Determinant of the given matrix in Question 4:\n",
            "5\n"
          ]
        }
      ]
    },
    {
      "cell_type": "markdown",
      "metadata": {
        "id": "OpzrtoIy5GfG"
      },
      "source": [
        "**QUESTION #6**"
      ]
    },
    {
      "cell_type": "code",
      "metadata": {
        "colab": {
          "base_uri": "https://localhost:8080/"
        },
        "id": "OBJzZ-oh5JBu",
        "outputId": "4c84d8c6-5038-460d-f0fd-5b426da38a91"
      },
      "source": [
        "import numpy as np \n",
        "\n",
        "Equations = np.array([[5,4,1],\n",
        "                      [10,9,4],\n",
        "                      [10,13,15]])\n",
        "\n",
        "Constants = np.array([[[3.4],\n",
        "                       [8.8],\n",
        "                       [19.2]]])\n",
        "\n",
        "roots = np.linalg.inv(Equations) @ Constants\n",
        "\n",
        "print(roots)"
      ],
      "execution_count": 7,
      "outputs": [
        {
          "output_type": "stream",
          "name": "stdout",
          "text": [
            "[[[0.2]\n",
            "  [0.4]\n",
            "  [0.8]]]\n"
          ]
        }
      ]
    }
  ]
}