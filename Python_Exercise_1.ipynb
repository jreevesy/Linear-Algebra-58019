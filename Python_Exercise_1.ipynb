{
  "nbformat": 4,
  "nbformat_minor": 0,
  "metadata": {
    "colab": {
      "name": "Python Exercise 1",
      "provenance": [],
      "authorship_tag": "ABX9TyNud8NGBB+7x5Y2Sve7YNFS",
      "include_colab_link": true
    },
    "kernelspec": {
      "name": "python3",
      "display_name": "Python 3"
    },
    "language_info": {
      "name": "python"
    }
  },
  "cells": [
    {
      "cell_type": "markdown",
      "metadata": {
        "id": "view-in-github",
        "colab_type": "text"
      },
      "source": [
        "<a href=\"https://colab.research.google.com/github/jreevesy/Linear-Algebra-58019/blob/main/Python_Exercise_1.ipynb\" target=\"_parent\"><img src=\"https://colab.research.google.com/assets/colab-badge.svg\" alt=\"Open In Colab\"/></a>"
      ]
    },
    {
      "cell_type": "code",
      "metadata": {
        "id": "TnbDStVr7w_U"
      },
      "source": [
        ""
      ],
      "execution_count": null,
      "outputs": []
    },
    {
      "cell_type": "markdown",
      "metadata": {
        "id": "JnXVWu8s8kg6"
      },
      "source": [
        "Matrix and Its Operations\n"
      ]
    },
    {
      "cell_type": "code",
      "metadata": {
        "colab": {
          "base_uri": "https://localhost:8080/"
        },
        "id": "G-JdpiTHASNn",
        "outputId": "e6860941-3c59-4795-a371-b117a5b35fc3"
      },
      "source": [
        "import numpy as np\n",
        "a = np.array ([[-5,0],[4,1]])\n",
        "b = np.array ([[6,-3],[2,3]])\n",
        "\n",
        "sum = np.add (a,b)\n",
        "\n",
        "print (\"Sum of a and b\")\n",
        "print (sum)"
      ],
      "execution_count": 4,
      "outputs": [
        {
          "output_type": "stream",
          "name": "stdout",
          "text": [
            "Sum of a and b\n",
            "[[ 1 -3]\n",
            " [ 6  4]]\n"
          ]
        }
      ]
    },
    {
      "cell_type": "code",
      "metadata": {
        "colab": {
          "base_uri": "https://localhost:8080/"
        },
        "id": "AgS35sMLAi_m",
        "outputId": "74193127-81ae-4aa4-b151-1f7e1fbb0d5e"
      },
      "source": [
        "import numpy as np\n",
        "a = np.array ([[-5,0],[4,1]])\n",
        "b = np.array ([[6,-3],[2,3]])\n",
        "\n",
        "difference1 = np.subtract (a,b)\n",
        "\n",
        "print (\"\\nDifference of a and b\")\n",
        "print (difference1)"
      ],
      "execution_count": 5,
      "outputs": [
        {
          "output_type": "stream",
          "name": "stdout",
          "text": [
            "\n",
            "Difference of a and b\n",
            "[[-11   3]\n",
            " [  2  -2]]\n"
          ]
        }
      ]
    },
    {
      "cell_type": "code",
      "metadata": {
        "colab": {
          "base_uri": "https://localhost:8080/"
        },
        "id": "4J3gGzvnAwxP",
        "outputId": "b28713b4-2e41-4cad-ef30-8a8ee42c3a23"
      },
      "source": [
        "import numpy as np\n",
        "a = np.array ([[-5,0],[4,1]])\n",
        "b = np.array ([[6,-3],[2,3]])\n",
        "\n",
        "difference2 = np.subtract (b,a)\n",
        "\n",
        "print (\"\\nDifference of b and a\")\n",
        "print (difference2)"
      ],
      "execution_count": 6,
      "outputs": [
        {
          "output_type": "stream",
          "name": "stdout",
          "text": [
            "\n",
            "Difference of b and a\n",
            "[[11 -3]\n",
            " [-2  2]]\n"
          ]
        }
      ]
    }
  ]
}