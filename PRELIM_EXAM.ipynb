{
  "nbformat": 4,
  "nbformat_minor": 0,
  "metadata": {
    "colab": {
      "name": "PRELIM EXAM",
      "provenance": [],
      "authorship_tag": "ABX9TyOSzSY5zkU+zdo4GUjyXZXS",
      "include_colab_link": true
    },
    "kernelspec": {
      "name": "python3",
      "display_name": "Python 3"
    },
    "language_info": {
      "name": "python"
    }
  },
  "cells": [
    {
      "cell_type": "markdown",
      "metadata": {
        "id": "view-in-github",
        "colab_type": "text"
      },
      "source": [
        "<a href=\"https://colab.research.google.com/github/jreevesy/Linear-Algebra-58019/blob/main/PRELIM_EXAM.ipynb\" target=\"_parent\"><img src=\"https://colab.research.google.com/assets/colab-badge.svg\" alt=\"Open In Colab\"/></a>"
      ]
    },
    {
      "cell_type": "markdown",
      "metadata": {
        "id": "Kx5llFHpkP64"
      },
      "source": [
        "**Question #1**\n"
      ]
    },
    {
      "cell_type": "code",
      "metadata": {
        "colab": {
          "base_uri": "https://localhost:8080/"
        },
        "id": "-de7TMRmitWW",
        "outputId": "ee739650-c414-4b38-faa0-9fb88492a70d"
      },
      "source": [
        "import numpy as np\n",
        "\n",
        "C = np.eye(4)\n",
        "print(C)"
      ],
      "execution_count": 1,
      "outputs": [
        {
          "output_type": "stream",
          "name": "stdout",
          "text": [
            "[[1. 0. 0. 0.]\n",
            " [0. 1. 0. 0.]\n",
            " [0. 0. 1. 0.]\n",
            " [0. 0. 0. 1.]]\n"
          ]
        }
      ]
    },
    {
      "cell_type": "markdown",
      "metadata": {
        "id": "zPKD0kSSkTe3"
      },
      "source": [
        "**Question #2**"
      ]
    },
    {
      "cell_type": "code",
      "metadata": {
        "colab": {
          "base_uri": "https://localhost:8080/"
        },
        "id": "9RJbUjAgkWtY",
        "outputId": "2b3bf86b-a72b-4edc-863a-ebc09c54e446"
      },
      "source": [
        "import numpy as np\n",
        "\n",
        "x = np.array([1,1,1,1])\n",
        "C = np.diag(x)\n",
        "\n",
        "print(C*2)"
      ],
      "execution_count": 7,
      "outputs": [
        {
          "output_type": "stream",
          "name": "stdout",
          "text": [
            "[[2 0 0 0]\n",
            " [0 2 0 0]\n",
            " [0 0 2 0]\n",
            " [0 0 0 2]]\n"
          ]
        }
      ]
    },
    {
      "cell_type": "markdown",
      "metadata": {
        "id": "DJa5Zu_Dk_NR"
      },
      "source": [
        "**Question #3**\n"
      ]
    },
    {
      "cell_type": "code",
      "metadata": {
        "colab": {
          "base_uri": "https://localhost:8080/"
        },
        "id": "_hTPxR4JlIZU",
        "outputId": "be9691f0-3ac6-4226-c5dc-68a1dba80b55"
      },
      "source": [
        "A = np.array([2,7,4])\n",
        "B = np.array([3,9,8])\n",
        "cross = np.cross(A,B)\n",
        "print(cross)"
      ],
      "execution_count": 4,
      "outputs": [
        {
          "output_type": "stream",
          "name": "stdout",
          "text": [
            "[20 -4 -3]\n"
          ]
        }
      ]
    }
  ]
}